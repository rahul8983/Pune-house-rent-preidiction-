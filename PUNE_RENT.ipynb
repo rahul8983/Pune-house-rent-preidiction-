{
 "cells": [
  {
   "cell_type": "code",
   "execution_count": 1,
   "id": "a720014b",
   "metadata": {},
   "outputs": [],
   "source": [
    "import pandas as pd\n",
    "import numpy as np\n",
    "import seaborn as sns\n",
    "import matplotlib.pyplot as plt\n",
    "import warnings\n",
    "warnings.filterwarnings('ignore')"
   ]
  },
  {
   "cell_type": "code",
   "execution_count": 2,
   "id": "0966d5e7",
   "metadata": {},
   "outputs": [],
   "source": [
    "df = pd.read_csv('Pune_rent.csv')"
   ]
  },
  {
   "cell_type": "code",
   "execution_count": null,
   "id": "147cb502",
   "metadata": {},
   "outputs": [],
   "source": []
  },
  {
   "cell_type": "code",
   "execution_count": 3,
   "id": "0fa2d025",
   "metadata": {
    "scrolled": false
   },
   "outputs": [
    {
     "data": {
      "text/html": [
       "<div>\n",
       "<style scoped>\n",
       "    .dataframe tbody tr th:only-of-type {\n",
       "        vertical-align: middle;\n",
       "    }\n",
       "\n",
       "    .dataframe tbody tr th {\n",
       "        vertical-align: top;\n",
       "    }\n",
       "\n",
       "    .dataframe thead th {\n",
       "        text-align: right;\n",
       "    }\n",
       "</style>\n",
       "<table border=\"1\" class=\"dataframe\">\n",
       "  <thead>\n",
       "    <tr style=\"text-align: right;\">\n",
       "      <th></th>\n",
       "      <th>seller_type</th>\n",
       "      <th>bedroom</th>\n",
       "      <th>layout_type</th>\n",
       "      <th>property_type</th>\n",
       "      <th>locality</th>\n",
       "      <th>price</th>\n",
       "      <th>area</th>\n",
       "      <th>furnish_type</th>\n",
       "      <th>bathroom</th>\n",
       "    </tr>\n",
       "  </thead>\n",
       "  <tbody>\n",
       "    <tr>\n",
       "      <th>0</th>\n",
       "      <td>OWNER</td>\n",
       "      <td>1</td>\n",
       "      <td>BHK</td>\n",
       "      <td>Independent Floor</td>\n",
       "      <td>Mundhwa</td>\n",
       "      <td>6,750</td>\n",
       "      <td>450</td>\n",
       "      <td>Unfurnished</td>\n",
       "      <td>1 bathrooms</td>\n",
       "    </tr>\n",
       "    <tr>\n",
       "      <th>1</th>\n",
       "      <td>OWNER</td>\n",
       "      <td>2</td>\n",
       "      <td>BHK</td>\n",
       "      <td>Apartment</td>\n",
       "      <td>Wakad</td>\n",
       "      <td>18,000</td>\n",
       "      <td>916</td>\n",
       "      <td>Unfurnished</td>\n",
       "      <td>2 bathrooms</td>\n",
       "    </tr>\n",
       "    <tr>\n",
       "      <th>2</th>\n",
       "      <td>OWNER</td>\n",
       "      <td>3</td>\n",
       "      <td>BHK</td>\n",
       "      <td>Apartment</td>\n",
       "      <td>Wagholi</td>\n",
       "      <td>16,500</td>\n",
       "      <td>1085</td>\n",
       "      <td>Semi-Furnished</td>\n",
       "      <td>3 bathrooms</td>\n",
       "    </tr>\n",
       "    <tr>\n",
       "      <th>3</th>\n",
       "      <td>OWNER</td>\n",
       "      <td>1</td>\n",
       "      <td>RK</td>\n",
       "      <td>Studio Apartment</td>\n",
       "      <td>Kothrud</td>\n",
       "      <td>8,000</td>\n",
       "      <td>250</td>\n",
       "      <td>Furnished</td>\n",
       "      <td>1 bathrooms</td>\n",
       "    </tr>\n",
       "    <tr>\n",
       "      <th>4</th>\n",
       "      <td>OWNER</td>\n",
       "      <td>2</td>\n",
       "      <td>BHK</td>\n",
       "      <td>Apartment</td>\n",
       "      <td>Yerawada</td>\n",
       "      <td>25,000</td>\n",
       "      <td>1005</td>\n",
       "      <td>Semi-Furnished</td>\n",
       "      <td>2 bathrooms</td>\n",
       "    </tr>\n",
       "  </tbody>\n",
       "</table>\n",
       "</div>"
      ],
      "text/plain": [
       "  seller_type  bedroom layout_type      property_type  locality   price  area  \\\n",
       "0       OWNER        1         BHK  Independent Floor   Mundhwa   6,750   450   \n",
       "1       OWNER        2         BHK          Apartment     Wakad  18,000   916   \n",
       "2       OWNER        3         BHK          Apartment   Wagholi  16,500  1085   \n",
       "3       OWNER        1          RK   Studio Apartment   Kothrud   8,000   250   \n",
       "4       OWNER        2         BHK          Apartment  Yerawada  25,000  1005   \n",
       "\n",
       "     furnish_type     bathroom  \n",
       "0     Unfurnished  1 bathrooms  \n",
       "1     Unfurnished  2 bathrooms  \n",
       "2  Semi-Furnished  3 bathrooms  \n",
       "3       Furnished  1 bathrooms  \n",
       "4  Semi-Furnished  2 bathrooms  "
      ]
     },
     "execution_count": 3,
     "metadata": {},
     "output_type": "execute_result"
    }
   ],
   "source": [
    "df.head()"
   ]
  },
  {
   "cell_type": "code",
   "execution_count": 4,
   "id": "0322e289",
   "metadata": {},
   "outputs": [
    {
     "data": {
      "text/plain": [
       "array(['OWNER', 'AGENT', 'BUILDER'], dtype=object)"
      ]
     },
     "execution_count": 4,
     "metadata": {},
     "output_type": "execute_result"
    }
   ],
   "source": [
    "df.seller_type.unique()"
   ]
  },
  {
   "cell_type": "code",
   "execution_count": 5,
   "id": "2e06ba57",
   "metadata": {},
   "outputs": [
    {
     "name": "stdout",
     "output_type": "stream",
     "text": [
      "<class 'pandas.core.frame.DataFrame'>\n",
      "RangeIndex: 22800 entries, 0 to 22799\n",
      "Data columns (total 9 columns):\n",
      " #   Column         Non-Null Count  Dtype \n",
      "---  ------         --------------  ----- \n",
      " 0   seller_type    22800 non-null  object\n",
      " 1   bedroom        22800 non-null  int64 \n",
      " 2   layout_type    22800 non-null  object\n",
      " 3   property_type  22800 non-null  object\n",
      " 4   locality       22800 non-null  object\n",
      " 5   price          22800 non-null  object\n",
      " 6   area           22800 non-null  int64 \n",
      " 7   furnish_type   22800 non-null  object\n",
      " 8   bathroom       22629 non-null  object\n",
      "dtypes: int64(2), object(7)\n",
      "memory usage: 1.6+ MB\n"
     ]
    }
   ],
   "source": [
    "df.info()"
   ]
  },
  {
   "cell_type": "code",
   "execution_count": 6,
   "id": "927ccf1d",
   "metadata": {},
   "outputs": [
    {
     "data": {
      "text/html": [
       "<div>\n",
       "<style scoped>\n",
       "    .dataframe tbody tr th:only-of-type {\n",
       "        vertical-align: middle;\n",
       "    }\n",
       "\n",
       "    .dataframe tbody tr th {\n",
       "        vertical-align: top;\n",
       "    }\n",
       "\n",
       "    .dataframe thead th {\n",
       "        text-align: right;\n",
       "    }\n",
       "</style>\n",
       "<table border=\"1\" class=\"dataframe\">\n",
       "  <thead>\n",
       "    <tr style=\"text-align: right;\">\n",
       "      <th></th>\n",
       "      <th>bedroom</th>\n",
       "      <th>area</th>\n",
       "    </tr>\n",
       "  </thead>\n",
       "  <tbody>\n",
       "    <tr>\n",
       "      <th>count</th>\n",
       "      <td>22800.000000</td>\n",
       "      <td>22800.000000</td>\n",
       "    </tr>\n",
       "    <tr>\n",
       "      <th>mean</th>\n",
       "      <td>1.873465</td>\n",
       "      <td>1041.622588</td>\n",
       "    </tr>\n",
       "    <tr>\n",
       "      <th>std</th>\n",
       "      <td>0.793189</td>\n",
       "      <td>588.915990</td>\n",
       "    </tr>\n",
       "    <tr>\n",
       "      <th>min</th>\n",
       "      <td>1.000000</td>\n",
       "      <td>100.000000</td>\n",
       "    </tr>\n",
       "    <tr>\n",
       "      <th>25%</th>\n",
       "      <td>1.000000</td>\n",
       "      <td>650.000000</td>\n",
       "    </tr>\n",
       "    <tr>\n",
       "      <th>50%</th>\n",
       "      <td>2.000000</td>\n",
       "      <td>960.000000</td>\n",
       "    </tr>\n",
       "    <tr>\n",
       "      <th>75%</th>\n",
       "      <td>2.000000</td>\n",
       "      <td>1200.000000</td>\n",
       "    </tr>\n",
       "    <tr>\n",
       "      <th>max</th>\n",
       "      <td>8.000000</td>\n",
       "      <td>7500.000000</td>\n",
       "    </tr>\n",
       "  </tbody>\n",
       "</table>\n",
       "</div>"
      ],
      "text/plain": [
       "            bedroom          area\n",
       "count  22800.000000  22800.000000\n",
       "mean       1.873465   1041.622588\n",
       "std        0.793189    588.915990\n",
       "min        1.000000    100.000000\n",
       "25%        1.000000    650.000000\n",
       "50%        2.000000    960.000000\n",
       "75%        2.000000   1200.000000\n",
       "max        8.000000   7500.000000"
      ]
     },
     "execution_count": 6,
     "metadata": {},
     "output_type": "execute_result"
    }
   ],
   "source": [
    "df.describe()"
   ]
  },
  {
   "cell_type": "code",
   "execution_count": 7,
   "id": "780fb42e",
   "metadata": {},
   "outputs": [
    {
     "data": {
      "text/plain": [
       "seller_type        0\n",
       "bedroom            0\n",
       "layout_type        0\n",
       "property_type      0\n",
       "locality           0\n",
       "price              0\n",
       "area               0\n",
       "furnish_type       0\n",
       "bathroom         171\n",
       "dtype: int64"
      ]
     },
     "execution_count": 7,
     "metadata": {},
     "output_type": "execute_result"
    }
   ],
   "source": [
    "df.isnull().sum()"
   ]
  },
  {
   "cell_type": "code",
   "execution_count": 8,
   "id": "e13c065b",
   "metadata": {},
   "outputs": [
    {
     "data": {
      "text/plain": [
       "bathroom         0.75\n",
       "seller_type      0.00\n",
       "bedroom          0.00\n",
       "layout_type      0.00\n",
       "property_type    0.00\n",
       "locality         0.00\n",
       "price            0.00\n",
       "area             0.00\n",
       "furnish_type     0.00\n",
       "dtype: float64"
      ]
     },
     "execution_count": 8,
     "metadata": {},
     "output_type": "execute_result"
    }
   ],
   "source": [
    "percent_missing =df.isnull().sum()*100/len(df)\n",
    "percent_missing.sort_values(ascending=False)"
   ]
  },
  {
   "cell_type": "code",
   "execution_count": 9,
   "id": "6d93bed7",
   "metadata": {},
   "outputs": [
    {
     "data": {
      "image/png": "[encoded data removed]",
      "text/plain": [
       "<Figure size 1080x720 with 1 Axes>"
      ]
     },
     "metadata": {
      "needs_background": "light"
     },
     "output_type": "display_data"
    }
   ],
   "source": [
    "plt.figure(figsize=(15,10))\n",
    "sns.countplot(data = df , y='bathroom')\n",
    "plt.grid()\n",
    "plt.show()"
   ]
  },
  {
   "cell_type": "code",
   "execution_count": 10,
   "id": "f5b195e6",
   "metadata": {},
   "outputs": [],
   "source": [
    "data = df.copy()\n",
    "data['bathroom'].fillna(df['bathroom'].value_counts().idxmax(),inplace=True)"
   ]
  },
  {
   "cell_type": "code",
   "execution_count": 11,
   "id": "28637c17",
   "metadata": {},
   "outputs": [
    {
     "data": {
      "text/plain": [
       "seller_type      0\n",
       "bedroom          0\n",
       "layout_type      0\n",
       "property_type    0\n",
       "locality         0\n",
       "price            0\n",
       "area             0\n",
       "furnish_type     0\n",
       "bathroom         0\n",
       "dtype: int64"
      ]
     },
     "execution_count": 11,
     "metadata": {},
     "output_type": "execute_result"
    }
   ],
   "source": [
    "data.isnull().sum()"
   ]
  },
  {
   "cell_type": "code",
   "execution_count": 12,
   "id": "3f06d720",
   "metadata": {},
   "outputs": [],
   "source": [
    "from sklearn.preprocessing import LabelEncoder"
   ]
  },
  {
   "cell_type": "code",
   "execution_count": 13,
   "id": "c72ab0f3",
   "metadata": {},
   "outputs": [
    {
     "data": {
      "text/html": [
       "<div>\n",
       "<style scoped>\n",
       "    .dataframe tbody tr th:only-of-type {\n",
       "        vertical-align: middle;\n",
       "    }\n",
       "\n",
       "    .dataframe tbody tr th {\n",
       "        vertical-align: top;\n",
       "    }\n",
       "\n",
       "    .dataframe thead th {\n",
       "        text-align: right;\n",
       "    }\n",
       "</style>\n",
       "<table border=\"1\" class=\"dataframe\">\n",
       "  <thead>\n",
       "    <tr style=\"text-align: right;\">\n",
       "      <th></th>\n",
       "      <th>seller_type</th>\n",
       "      <th>bedroom</th>\n",
       "      <th>layout_type</th>\n",
       "      <th>property_type</th>\n",
       "      <th>locality</th>\n",
       "      <th>price</th>\n",
       "      <th>area</th>\n",
       "      <th>furnish_type</th>\n",
       "      <th>bathroom</th>\n",
       "    </tr>\n",
       "  </thead>\n",
       "  <tbody>\n",
       "    <tr>\n",
       "      <th>0</th>\n",
       "      <td>OWNER</td>\n",
       "      <td>1</td>\n",
       "      <td>BHK</td>\n",
       "      <td>Independent Floor</td>\n",
       "      <td>Mundhwa</td>\n",
       "      <td>6,750</td>\n",
       "      <td>450</td>\n",
       "      <td>Unfurnished</td>\n",
       "      <td>1 bathrooms</td>\n",
       "    </tr>\n",
       "    <tr>\n",
       "      <th>1</th>\n",
       "      <td>OWNER</td>\n",
       "      <td>2</td>\n",
       "      <td>BHK</td>\n",
       "      <td>Apartment</td>\n",
       "      <td>Wakad</td>\n",
       "      <td>18,000</td>\n",
       "      <td>916</td>\n",
       "      <td>Unfurnished</td>\n",
       "      <td>2 bathrooms</td>\n",
       "    </tr>\n",
       "    <tr>\n",
       "      <th>2</th>\n",
       "      <td>OWNER</td>\n",
       "      <td>3</td>\n",
       "      <td>BHK</td>\n",
       "      <td>Apartment</td>\n",
       "      <td>Wagholi</td>\n",
       "      <td>16,500</td>\n",
       "      <td>1085</td>\n",
       "      <td>Semi-Furnished</td>\n",
       "      <td>3 bathrooms</td>\n",
       "    </tr>\n",
       "    <tr>\n",
       "      <th>3</th>\n",
       "      <td>OWNER</td>\n",
       "      <td>1</td>\n",
       "      <td>RK</td>\n",
       "      <td>Studio Apartment</td>\n",
       "      <td>Kothrud</td>\n",
       "      <td>8,000</td>\n",
       "      <td>250</td>\n",
       "      <td>Furnished</td>\n",
       "      <td>1 bathrooms</td>\n",
       "    </tr>\n",
       "    <tr>\n",
       "      <th>4</th>\n",
       "      <td>OWNER</td>\n",
       "      <td>2</td>\n",
       "      <td>BHK</td>\n",
       "      <td>Apartment</td>\n",
       "      <td>Yerawada</td>\n",
       "      <td>25,000</td>\n",
       "      <td>1005</td>\n",
       "      <td>Semi-Furnished</td>\n",
       "      <td>2 bathrooms</td>\n",
       "    </tr>\n",
       "  </tbody>\n",
       "</table>\n",
       "</div>"
      ],
      "text/plain": [
       "  seller_type  bedroom layout_type      property_type  locality   price  area  \\\n",
       "0       OWNER        1         BHK  Independent Floor   Mundhwa   6,750   450   \n",
       "1       OWNER        2         BHK          Apartment     Wakad  18,000   916   \n",
       "2       OWNER        3         BHK          Apartment   Wagholi  16,500  1085   \n",
       "3       OWNER        1          RK   Studio Apartment   Kothrud   8,000   250   \n",
       "4       OWNER        2         BHK          Apartment  Yerawada  25,000  1005   \n",
       "\n",
       "     furnish_type     bathroom  \n",
       "0     Unfurnished  1 bathrooms  \n",
       "1     Unfurnished  2 bathrooms  \n",
       "2  Semi-Furnished  3 bathrooms  \n",
       "3       Furnished  1 bathrooms  \n",
       "4  Semi-Furnished  2 bathrooms  "
      ]
     },
     "execution_count": 13,
     "metadata": {},
     "output_type": "execute_result"
    }
   ],
   "source": [
    "le = LabelEncoder()\n",
    "data.head()"
   ]
  },
  {
   "cell_type": "code",
   "execution_count": 14,
   "id": "06e0a6f7",
   "metadata": {},
   "outputs": [],
   "source": [
    "col = data[['seller_type','layout_type','property_type','locality','furnish_type','bathroom']]"
   ]
  },
  {
   "cell_type": "code",
   "execution_count": 15,
   "id": "ca971295",
   "metadata": {},
   "outputs": [
    {
     "data": {
      "text/html": [
       "<div>\n",
       "<style scoped>\n",
       "    .dataframe tbody tr th:only-of-type {\n",
       "        vertical-align: middle;\n",
       "    }\n",
       "\n",
       "    .dataframe tbody tr th {\n",
       "        vertical-align: top;\n",
       "    }\n",
       "\n",
       "    .dataframe thead th {\n",
       "        text-align: right;\n",
       "    }\n",
       "</style>\n",
       "<table border=\"1\" class=\"dataframe\">\n",
       "  <thead>\n",
       "    <tr style=\"text-align: right;\">\n",
       "      <th></th>\n",
       "      <th>seller_type</th>\n",
       "      <th>bedroom</th>\n",
       "      <th>layout_type</th>\n",
       "      <th>property_type</th>\n",
       "      <th>locality</th>\n",
       "      <th>price</th>\n",
       "      <th>area</th>\n",
       "      <th>furnish_type</th>\n",
       "      <th>bathroom</th>\n",
       "    </tr>\n",
       "  </thead>\n",
       "  <tbody>\n",
       "    <tr>\n",
       "      <th>0</th>\n",
       "      <td>2</td>\n",
       "      <td>1</td>\n",
       "      <td>0</td>\n",
       "      <td>1</td>\n",
       "      <td>235</td>\n",
       "      <td>6,750</td>\n",
       "      <td>450</td>\n",
       "      <td>2</td>\n",
       "      <td>0</td>\n",
       "    </tr>\n",
       "    <tr>\n",
       "      <th>1</th>\n",
       "      <td>2</td>\n",
       "      <td>2</td>\n",
       "      <td>0</td>\n",
       "      <td>0</td>\n",
       "      <td>428</td>\n",
       "      <td>18,000</td>\n",
       "      <td>916</td>\n",
       "      <td>2</td>\n",
       "      <td>4</td>\n",
       "    </tr>\n",
       "    <tr>\n",
       "      <th>2</th>\n",
       "      <td>2</td>\n",
       "      <td>3</td>\n",
       "      <td>0</td>\n",
       "      <td>0</td>\n",
       "      <td>425</td>\n",
       "      <td>16,500</td>\n",
       "      <td>1085</td>\n",
       "      <td>1</td>\n",
       "      <td>5</td>\n",
       "    </tr>\n",
       "    <tr>\n",
       "      <th>3</th>\n",
       "      <td>2</td>\n",
       "      <td>1</td>\n",
       "      <td>1</td>\n",
       "      <td>4</td>\n",
       "      <td>185</td>\n",
       "      <td>8,000</td>\n",
       "      <td>250</td>\n",
       "      <td>0</td>\n",
       "      <td>0</td>\n",
       "    </tr>\n",
       "    <tr>\n",
       "      <th>4</th>\n",
       "      <td>2</td>\n",
       "      <td>2</td>\n",
       "      <td>0</td>\n",
       "      <td>0</td>\n",
       "      <td>443</td>\n",
       "      <td>25,000</td>\n",
       "      <td>1005</td>\n",
       "      <td>1</td>\n",
       "      <td>4</td>\n",
       "    </tr>\n",
       "  </tbody>\n",
       "</table>\n",
       "</div>"
      ],
      "text/plain": [
       "   seller_type  bedroom  layout_type  property_type  locality   price  area  \\\n",
       "0            2        1            0              1       235   6,750   450   \n",
       "1            2        2            0              0       428  18,000   916   \n",
       "2            2        3            0              0       425  16,500  1085   \n",
       "3            2        1            1              4       185   8,000   250   \n",
       "4            2        2            0              0       443  25,000  1005   \n",
       "\n",
       "   furnish_type  bathroom  \n",
       "0             2         0  \n",
       "1             2         4  \n",
       "2             1         5  \n",
       "3             0         0  \n",
       "4             1         4  "
      ]
     },
     "execution_count": 15,
     "metadata": {},
     "output_type": "execute_result"
    }
   ],
   "source": [
    "for i in col:\n",
    "    data[i]=le.fit_transform(data[i])\n",
    "data.head()"
   ]
  },
  {
   "cell_type": "code",
   "execution_count": null,
   "id": "c25722a4",
   "metadata": {},
   "outputs": [],
   "source": []
  },
  {
   "cell_type": "code",
   "execution_count": 95,
   "id": "b22425cf",
   "metadata": {},
   "outputs": [],
   "source": [
    "df1 =df.copy()"
   ]
  },
  {
   "cell_type": "code",
   "execution_count": 96,
   "id": "93c6622d",
   "metadata": {},
   "outputs": [
    {
     "data": {
      "text/html": [
       "<div>\n",
       "<style scoped>\n",
       "    .dataframe tbody tr th:only-of-type {\n",
       "        vertical-align: middle;\n",
       "    }\n",
       "\n",
       "    .dataframe tbody tr th {\n",
       "        vertical-align: top;\n",
       "    }\n",
       "\n",
       "    .dataframe thead th {\n",
       "        text-align: right;\n",
       "    }\n",
       "</style>\n",
       "<table border=\"1\" class=\"dataframe\">\n",
       "  <thead>\n",
       "    <tr style=\"text-align: right;\">\n",
       "      <th></th>\n",
       "      <th>seller_type</th>\n",
       "      <th>bedroom</th>\n",
       "      <th>layout_type</th>\n",
       "      <th>property_type</th>\n",
       "      <th>locality</th>\n",
       "      <th>price</th>\n",
       "      <th>area</th>\n",
       "      <th>furnish_type</th>\n",
       "      <th>bathroom</th>\n",
       "    </tr>\n",
       "  </thead>\n",
       "  <tbody>\n",
       "    <tr>\n",
       "      <th>0</th>\n",
       "      <td>OWNER</td>\n",
       "      <td>1</td>\n",
       "      <td>BHK</td>\n",
       "      <td>Independent Floor</td>\n",
       "      <td>Mundhwa</td>\n",
       "      <td>6,750</td>\n",
       "      <td>450</td>\n",
       "      <td>Unfurnished</td>\n",
       "      <td>1 bathrooms</td>\n",
       "    </tr>\n",
       "    <tr>\n",
       "      <th>1</th>\n",
       "      <td>OWNER</td>\n",
       "      <td>2</td>\n",
       "      <td>BHK</td>\n",
       "      <td>Apartment</td>\n",
       "      <td>Wakad</td>\n",
       "      <td>18,000</td>\n",
       "      <td>916</td>\n",
       "      <td>Unfurnished</td>\n",
       "      <td>2 bathrooms</td>\n",
       "    </tr>\n",
       "    <tr>\n",
       "      <th>2</th>\n",
       "      <td>OWNER</td>\n",
       "      <td>3</td>\n",
       "      <td>BHK</td>\n",
       "      <td>Apartment</td>\n",
       "      <td>Wagholi</td>\n",
       "      <td>16,500</td>\n",
       "      <td>1085</td>\n",
       "      <td>Semi-Furnished</td>\n",
       "      <td>3 bathrooms</td>\n",
       "    </tr>\n",
       "    <tr>\n",
       "      <th>3</th>\n",
       "      <td>OWNER</td>\n",
       "      <td>1</td>\n",
       "      <td>RK</td>\n",
       "      <td>Studio Apartment</td>\n",
       "      <td>Kothrud</td>\n",
       "      <td>8,000</td>\n",
       "      <td>250</td>\n",
       "      <td>Furnished</td>\n",
       "      <td>1 bathrooms</td>\n",
       "    </tr>\n",
       "    <tr>\n",
       "      <th>4</th>\n",
       "      <td>OWNER</td>\n",
       "      <td>2</td>\n",
       "      <td>BHK</td>\n",
       "      <td>Apartment</td>\n",
       "      <td>Yerawada</td>\n",
       "      <td>25,000</td>\n",
       "      <td>1005</td>\n",
       "      <td>Semi-Furnished</td>\n",
       "      <td>2 bathrooms</td>\n",
       "    </tr>\n",
       "    <tr>\n",
       "      <th>...</th>\n",
       "      <td>...</td>\n",
       "      <td>...</td>\n",
       "      <td>...</td>\n",
       "      <td>...</td>\n",
       "      <td>...</td>\n",
       "      <td>...</td>\n",
       "      <td>...</td>\n",
       "      <td>...</td>\n",
       "      <td>...</td>\n",
       "    </tr>\n",
       "    <tr>\n",
       "      <th>22795</th>\n",
       "      <td>OWNER</td>\n",
       "      <td>1</td>\n",
       "      <td>BHK</td>\n",
       "      <td>Apartment</td>\n",
       "      <td>Chinchwad</td>\n",
       "      <td>13,250</td>\n",
       "      <td>650</td>\n",
       "      <td>Semi-Furnished</td>\n",
       "      <td>1 bathrooms</td>\n",
       "    </tr>\n",
       "    <tr>\n",
       "      <th>22796</th>\n",
       "      <td>OWNER</td>\n",
       "      <td>1</td>\n",
       "      <td>RK</td>\n",
       "      <td>Studio Apartment</td>\n",
       "      <td>Wadgaon Sheri</td>\n",
       "      <td>7,000</td>\n",
       "      <td>350</td>\n",
       "      <td>Unfurnished</td>\n",
       "      <td>1 bathrooms</td>\n",
       "    </tr>\n",
       "    <tr>\n",
       "      <th>22797</th>\n",
       "      <td>OWNER</td>\n",
       "      <td>1</td>\n",
       "      <td>BHK</td>\n",
       "      <td>Apartment</td>\n",
       "      <td>Kothrud</td>\n",
       "      <td>8,500</td>\n",
       "      <td>389</td>\n",
       "      <td>Semi-Furnished</td>\n",
       "      <td>1 bathrooms</td>\n",
       "    </tr>\n",
       "    <tr>\n",
       "      <th>22798</th>\n",
       "      <td>AGENT</td>\n",
       "      <td>1</td>\n",
       "      <td>BHK</td>\n",
       "      <td>Apartment</td>\n",
       "      <td>Wakad</td>\n",
       "      <td>16,500</td>\n",
       "      <td>670</td>\n",
       "      <td>Semi-Furnished</td>\n",
       "      <td>2 bathrooms</td>\n",
       "    </tr>\n",
       "    <tr>\n",
       "      <th>22799</th>\n",
       "      <td>AGENT</td>\n",
       "      <td>2</td>\n",
       "      <td>BHK</td>\n",
       "      <td>Apartment</td>\n",
       "      <td>Alandi</td>\n",
       "      <td>12,000</td>\n",
       "      <td>800</td>\n",
       "      <td>Unfurnished</td>\n",
       "      <td>2 bathrooms</td>\n",
       "    </tr>\n",
       "  </tbody>\n",
       "</table>\n",
       "<p>22800 rows × 9 columns</p>\n",
       "</div>"
      ],
      "text/plain": [
       "      seller_type  bedroom layout_type      property_type       locality  \\\n",
       "0           OWNER        1         BHK  Independent Floor        Mundhwa   \n",
       "1           OWNER        2         BHK          Apartment          Wakad   \n",
       "2           OWNER        3         BHK          Apartment        Wagholi   \n",
       "3           OWNER        1          RK   Studio Apartment        Kothrud   \n",
       "4           OWNER        2         BHK          Apartment       Yerawada   \n",
       "...           ...      ...         ...                ...            ...   \n",
       "22795       OWNER        1         BHK          Apartment      Chinchwad   \n",
       "22796       OWNER        1          RK   Studio Apartment  Wadgaon Sheri   \n",
       "22797       OWNER        1         BHK          Apartment        Kothrud   \n",
       "22798       AGENT        1         BHK          Apartment          Wakad   \n",
       "22799       AGENT        2         BHK          Apartment         Alandi   \n",
       "\n",
       "        price  area    furnish_type     bathroom  \n",
       "0       6,750   450     Unfurnished  1 bathrooms  \n",
       "1      18,000   916     Unfurnished  2 bathrooms  \n",
       "2      16,500  1085  Semi-Furnished  3 bathrooms  \n",
       "3       8,000   250       Furnished  1 bathrooms  \n",
       "4      25,000  1005  Semi-Furnished  2 bathrooms  \n",
       "...       ...   ...             ...          ...  \n",
       "22795  13,250   650  Semi-Furnished  1 bathrooms  \n",
       "22796   7,000   350     Unfurnished  1 bathrooms  \n",
       "22797   8,500   389  Semi-Furnished  1 bathrooms  \n",
       "22798  16,500   670  Semi-Furnished  2 bathrooms  \n",
       "22799  12,000   800     Unfurnished  2 bathrooms  \n",
       "\n",
       "[22800 rows x 9 columns]"
      ]
     },
     "execution_count": 96,
     "metadata": {},
     "output_type": "execute_result"
    }
   ],
   "source": [
    "df1"
   ]
  },
  {
   "cell_type": "code",
   "execution_count": 97,
   "id": "f4b3d8db",
   "metadata": {},
   "outputs": [],
   "source": [
    "df1['price'] = df1['price'].apply(lambda x: x.replace(',','')).astype('float')"
   ]
  },
  {
   "cell_type": "code",
   "execution_count": 98,
   "id": "6bc8416a",
   "metadata": {},
   "outputs": [
    {
     "data": {
      "text/html": [
       "<div>\n",
       "<style scoped>\n",
       "    .dataframe tbody tr th:only-of-type {\n",
       "        vertical-align: middle;\n",
       "    }\n",
       "\n",
       "    .dataframe tbody tr th {\n",
       "        vertical-align: top;\n",
       "    }\n",
       "\n",
       "    .dataframe thead th {\n",
       "        text-align: right;\n",
       "    }\n",
       "</style>\n",
       "<table border=\"1\" class=\"dataframe\">\n",
       "  <thead>\n",
       "    <tr style=\"text-align: right;\">\n",
       "      <th></th>\n",
       "      <th>seller_type</th>\n",
       "      <th>bedroom</th>\n",
       "      <th>layout_type</th>\n",
       "      <th>property_type</th>\n",
       "      <th>locality</th>\n",
       "      <th>price</th>\n",
       "      <th>area</th>\n",
       "      <th>furnish_type</th>\n",
       "      <th>bathroom</th>\n",
       "    </tr>\n",
       "  </thead>\n",
       "  <tbody>\n",
       "    <tr>\n",
       "      <th>0</th>\n",
       "      <td>OWNER</td>\n",
       "      <td>1</td>\n",
       "      <td>BHK</td>\n",
       "      <td>Independent Floor</td>\n",
       "      <td>Mundhwa</td>\n",
       "      <td>6750.0</td>\n",
       "      <td>450</td>\n",
       "      <td>Unfurnished</td>\n",
       "      <td>1 bathrooms</td>\n",
       "    </tr>\n",
       "    <tr>\n",
       "      <th>1</th>\n",
       "      <td>OWNER</td>\n",
       "      <td>2</td>\n",
       "      <td>BHK</td>\n",
       "      <td>Apartment</td>\n",
       "      <td>Wakad</td>\n",
       "      <td>18000.0</td>\n",
       "      <td>916</td>\n",
       "      <td>Unfurnished</td>\n",
       "      <td>2 bathrooms</td>\n",
       "    </tr>\n",
       "    <tr>\n",
       "      <th>2</th>\n",
       "      <td>OWNER</td>\n",
       "      <td>3</td>\n",
       "      <td>BHK</td>\n",
       "      <td>Apartment</td>\n",
       "      <td>Wagholi</td>\n",
       "      <td>16500.0</td>\n",
       "      <td>1085</td>\n",
       "      <td>Semi-Furnished</td>\n",
       "      <td>3 bathrooms</td>\n",
       "    </tr>\n",
       "    <tr>\n",
       "      <th>3</th>\n",
       "      <td>OWNER</td>\n",
       "      <td>1</td>\n",
       "      <td>RK</td>\n",
       "      <td>Studio Apartment</td>\n",
       "      <td>Kothrud</td>\n",
       "      <td>8000.0</td>\n",
       "      <td>250</td>\n",
       "      <td>Furnished</td>\n",
       "      <td>1 bathrooms</td>\n",
       "    </tr>\n",
       "    <tr>\n",
       "      <th>4</th>\n",
       "      <td>OWNER</td>\n",
       "      <td>2</td>\n",
       "      <td>BHK</td>\n",
       "      <td>Apartment</td>\n",
       "      <td>Yerawada</td>\n",
       "      <td>25000.0</td>\n",
       "      <td>1005</td>\n",
       "      <td>Semi-Furnished</td>\n",
       "      <td>2 bathrooms</td>\n",
       "    </tr>\n",
       "    <tr>\n",
       "      <th>...</th>\n",
       "      <td>...</td>\n",
       "      <td>...</td>\n",
       "      <td>...</td>\n",
       "      <td>...</td>\n",
       "      <td>...</td>\n",
       "      <td>...</td>\n",
       "      <td>...</td>\n",
       "      <td>...</td>\n",
       "      <td>...</td>\n",
       "    </tr>\n",
       "    <tr>\n",
       "      <th>22795</th>\n",
       "      <td>OWNER</td>\n",
       "      <td>1</td>\n",
       "      <td>BHK</td>\n",
       "      <td>Apartment</td>\n",
       "      <td>Chinchwad</td>\n",
       "      <td>13250.0</td>\n",
       "      <td>650</td>\n",
       "      <td>Semi-Furnished</td>\n",
       "      <td>1 bathrooms</td>\n",
       "    </tr>\n",
       "    <tr>\n",
       "      <th>22796</th>\n",
       "      <td>OWNER</td>\n",
       "      <td>1</td>\n",
       "      <td>RK</td>\n",
       "      <td>Studio Apartment</td>\n",
       "      <td>Wadgaon Sheri</td>\n",
       "      <td>7000.0</td>\n",
       "      <td>350</td>\n",
       "      <td>Unfurnished</td>\n",
       "      <td>1 bathrooms</td>\n",
       "    </tr>\n",
       "    <tr>\n",
       "      <th>22797</th>\n",
       "      <td>OWNER</td>\n",
       "      <td>1</td>\n",
       "      <td>BHK</td>\n",
       "      <td>Apartment</td>\n",
       "      <td>Kothrud</td>\n",
       "      <td>8500.0</td>\n",
       "      <td>389</td>\n",
       "      <td>Semi-Furnished</td>\n",
       "      <td>1 bathrooms</td>\n",
       "    </tr>\n",
       "    <tr>\n",
       "      <th>22798</th>\n",
       "      <td>AGENT</td>\n",
       "      <td>1</td>\n",
       "      <td>BHK</td>\n",
       "      <td>Apartment</td>\n",
       "      <td>Wakad</td>\n",
       "      <td>16500.0</td>\n",
       "      <td>670</td>\n",
       "      <td>Semi-Furnished</td>\n",
       "      <td>2 bathrooms</td>\n",
       "    </tr>\n",
       "    <tr>\n",
       "      <th>22799</th>\n",
       "      <td>AGENT</td>\n",
       "      <td>2</td>\n",
       "      <td>BHK</td>\n",
       "      <td>Apartment</td>\n",
       "      <td>Alandi</td>\n",
       "      <td>12000.0</td>\n",
       "      <td>800</td>\n",
       "      <td>Unfurnished</td>\n",
       "      <td>2 bathrooms</td>\n",
       "    </tr>\n",
       "  </tbody>\n",
       "</table>\n",
       "<p>22800 rows × 9 columns</p>\n",
       "</div>"
      ],
      "text/plain": [
       "      seller_type  bedroom layout_type      property_type       locality  \\\n",
       "0           OWNER        1         BHK  Independent Floor        Mundhwa   \n",
       "1           OWNER        2         BHK          Apartment          Wakad   \n",
       "2           OWNER        3         BHK          Apartment        Wagholi   \n",
       "3           OWNER        1          RK   Studio Apartment        Kothrud   \n",
       "4           OWNER        2         BHK          Apartment       Yerawada   \n",
       "...           ...      ...         ...                ...            ...   \n",
       "22795       OWNER        1         BHK          Apartment      Chinchwad   \n",
       "22796       OWNER        1          RK   Studio Apartment  Wadgaon Sheri   \n",
       "22797       OWNER        1         BHK          Apartment        Kothrud   \n",
       "22798       AGENT        1         BHK          Apartment          Wakad   \n",
       "22799       AGENT        2         BHK          Apartment         Alandi   \n",
       "\n",
       "         price  area    furnish_type     bathroom  \n",
       "0       6750.0   450     Unfurnished  1 bathrooms  \n",
       "1      18000.0   916     Unfurnished  2 bathrooms  \n",
       "2      16500.0  1085  Semi-Furnished  3 bathrooms  \n",
       "3       8000.0   250       Furnished  1 bathrooms  \n",
       "4      25000.0  1005  Semi-Furnished  2 bathrooms  \n",
       "...        ...   ...             ...          ...  \n",
       "22795  13250.0   650  Semi-Furnished  1 bathrooms  \n",
       "22796   7000.0   350     Unfurnished  1 bathrooms  \n",
       "22797   8500.0   389  Semi-Furnished  1 bathrooms  \n",
       "22798  16500.0   670  Semi-Furnished  2 bathrooms  \n",
       "22799  12000.0   800     Unfurnished  2 bathrooms  \n",
       "\n",
       "[22800 rows x 9 columns]"
      ]
     },
     "execution_count": 98,
     "metadata": {},
     "output_type": "execute_result"
    }
   ],
   "source": [
    "df1"
   ]
  },
  {
   "cell_type": "code",
   "execution_count": 16,
   "id": "ba78b42d",
   "metadata": {},
   "outputs": [
    {
     "name": "stdout",
     "output_type": "stream",
     "text": [
      "<class 'pandas.core.frame.DataFrame'>\n",
      "RangeIndex: 22800 entries, 0 to 22799\n",
      "Data columns (total 9 columns):\n",
      " #   Column         Non-Null Count  Dtype \n",
      "---  ------         --------------  ----- \n",
      " 0   seller_type    22800 non-null  int32 \n",
      " 1   bedroom        22800 non-null  int64 \n",
      " 2   layout_type    22800 non-null  int32 \n",
      " 3   property_type  22800 non-null  int32 \n",
      " 4   locality       22800 non-null  int32 \n",
      " 5   price          22800 non-null  object\n",
      " 6   area           22800 non-null  int64 \n",
      " 7   furnish_type   22800 non-null  int32 \n",
      " 8   bathroom       22800 non-null  int32 \n",
      "dtypes: int32(6), int64(2), object(1)\n",
      "memory usage: 1.0+ MB\n"
     ]
    }
   ],
   "source": [
    "data.info()"
   ]
  },
  {
   "cell_type": "code",
   "execution_count": 17,
   "id": "27cb4c46",
   "metadata": {},
   "outputs": [],
   "source": [
    "data['price'] = data['price'].apply(lambda x: x.replace(',','')).astype('float')"
   ]
  },
  {
   "cell_type": "code",
   "execution_count": 18,
   "id": "cff7069f",
   "metadata": {},
   "outputs": [
    {
     "data": {
      "text/html": [
       "<div>\n",
       "<style scoped>\n",
       "    .dataframe tbody tr th:only-of-type {\n",
       "        vertical-align: middle;\n",
       "    }\n",
       "\n",
       "    .dataframe tbody tr th {\n",
       "        vertical-align: top;\n",
       "    }\n",
       "\n",
       "    .dataframe thead th {\n",
       "        text-align: right;\n",
       "    }\n",
       "</style>\n",
       "<table border=\"1\" class=\"dataframe\">\n",
       "  <thead>\n",
       "    <tr style=\"text-align: right;\">\n",
       "      <th></th>\n",
       "      <th>seller_type</th>\n",
       "      <th>bedroom</th>\n",
       "      <th>layout_type</th>\n",
       "      <th>property_type</th>\n",
       "      <th>locality</th>\n",
       "      <th>price</th>\n",
       "      <th>area</th>\n",
       "      <th>furnish_type</th>\n",
       "      <th>bathroom</th>\n",
       "    </tr>\n",
       "  </thead>\n",
       "  <tbody>\n",
       "    <tr>\n",
       "      <th>count</th>\n",
       "      <td>22800.000000</td>\n",
       "      <td>22800.000000</td>\n",
       "      <td>22800.000000</td>\n",
       "      <td>22800.000000</td>\n",
       "      <td>22800.000000</td>\n",
       "      <td>22800.000000</td>\n",
       "      <td>22800.000000</td>\n",
       "      <td>22800.000000</td>\n",
       "      <td>22800.000000</td>\n",
       "    </tr>\n",
       "    <tr>\n",
       "      <th>mean</th>\n",
       "      <td>0.553772</td>\n",
       "      <td>1.873465</td>\n",
       "      <td>0.047105</td>\n",
       "      <td>0.346316</td>\n",
       "      <td>230.127193</td>\n",
       "      <td>18802.768139</td>\n",
       "      <td>1041.622588</td>\n",
       "      <td>1.254474</td>\n",
       "      <td>2.881404</td>\n",
       "    </tr>\n",
       "    <tr>\n",
       "      <th>std</th>\n",
       "      <td>0.884289</td>\n",
       "      <td>0.793189</td>\n",
       "      <td>0.211869</td>\n",
       "      <td>1.057567</td>\n",
       "      <td>143.919078</td>\n",
       "      <td>11862.576539</td>\n",
       "      <td>588.915990</td>\n",
       "      <td>0.739431</td>\n",
       "      <td>2.109812</td>\n",
       "    </tr>\n",
       "    <tr>\n",
       "      <th>min</th>\n",
       "      <td>0.000000</td>\n",
       "      <td>1.000000</td>\n",
       "      <td>0.000000</td>\n",
       "      <td>0.000000</td>\n",
       "      <td>0.000000</td>\n",
       "      <td>1.000000</td>\n",
       "      <td>100.000000</td>\n",
       "      <td>0.000000</td>\n",
       "      <td>0.000000</td>\n",
       "    </tr>\n",
       "    <tr>\n",
       "      <th>25%</th>\n",
       "      <td>0.000000</td>\n",
       "      <td>1.000000</td>\n",
       "      <td>0.000000</td>\n",
       "      <td>0.000000</td>\n",
       "      <td>123.000000</td>\n",
       "      <td>12000.000000</td>\n",
       "      <td>650.000000</td>\n",
       "      <td>1.000000</td>\n",
       "      <td>0.000000</td>\n",
       "    </tr>\n",
       "    <tr>\n",
       "      <th>50%</th>\n",
       "      <td>0.000000</td>\n",
       "      <td>2.000000</td>\n",
       "      <td>0.000000</td>\n",
       "      <td>0.000000</td>\n",
       "      <td>187.000000</td>\n",
       "      <td>16000.000000</td>\n",
       "      <td>960.000000</td>\n",
       "      <td>1.000000</td>\n",
       "      <td>4.000000</td>\n",
       "    </tr>\n",
       "    <tr>\n",
       "      <th>75%</th>\n",
       "      <td>2.000000</td>\n",
       "      <td>2.000000</td>\n",
       "      <td>0.000000</td>\n",
       "      <td>0.000000</td>\n",
       "      <td>398.000000</td>\n",
       "      <td>22000.000000</td>\n",
       "      <td>1200.000000</td>\n",
       "      <td>2.000000</td>\n",
       "      <td>4.000000</td>\n",
       "    </tr>\n",
       "    <tr>\n",
       "      <th>max</th>\n",
       "      <td>2.000000</td>\n",
       "      <td>8.000000</td>\n",
       "      <td>1.000000</td>\n",
       "      <td>5.000000</td>\n",
       "      <td>458.000000</td>\n",
       "      <td>99000.000000</td>\n",
       "      <td>7500.000000</td>\n",
       "      <td>2.000000</td>\n",
       "      <td>14.000000</td>\n",
       "    </tr>\n",
       "  </tbody>\n",
       "</table>\n",
       "</div>"
      ],
      "text/plain": [
       "        seller_type       bedroom   layout_type  property_type      locality  \\\n",
       "count  22800.000000  22800.000000  22800.000000   22800.000000  22800.000000   \n",
       "mean       0.553772      1.873465      0.047105       0.346316    230.127193   \n",
       "std        0.884289      0.793189      0.211869       1.057567    143.919078   \n",
       "min        0.000000      1.000000      0.000000       0.000000      0.000000   \n",
       "25%        0.000000      1.000000      0.000000       0.000000    123.000000   \n",
       "50%        0.000000      2.000000      0.000000       0.000000    187.000000   \n",
       "75%        2.000000      2.000000      0.000000       0.000000    398.000000   \n",
       "max        2.000000      8.000000      1.000000       5.000000    458.000000   \n",
       "\n",
       "              price          area  furnish_type      bathroom  \n",
       "count  22800.000000  22800.000000  22800.000000  22800.000000  \n",
       "mean   18802.768139   1041.622588      1.254474      2.881404  \n",
       "std    11862.576539    588.915990      0.739431      2.109812  \n",
       "min        1.000000    100.000000      0.000000      0.000000  \n",
       "25%    12000.000000    650.000000      1.000000      0.000000  \n",
       "50%    16000.000000    960.000000      1.000000      4.000000  \n",
       "75%    22000.000000   1200.000000      2.000000      4.000000  \n",
       "max    99000.000000   7500.000000      2.000000     14.000000  "
      ]
     },
     "execution_count": 18,
     "metadata": {},
     "output_type": "execute_result"
    }
   ],
   "source": [
    "data.describe()"
   ]
  },
  {
   "cell_type": "code",
   "execution_count": 19,
   "id": "bcf6c5cc",
   "metadata": {},
   "outputs": [
    {
     "data": {
      "image/png": "[encoded data removed]",
      "text/plain": [
       "<Figure size 720x576 with 9 Axes>"
      ]
     },
     "metadata": {
      "needs_background": "light"
     },
     "output_type": "display_data"
    }
   ],
   "source": [
    "data.hist(figsize=(10,8))\n",
    "plt.show()"
   ]
  },
  {
   "cell_type": "code",
   "execution_count": 20,
   "id": "e1b2d925",
   "metadata": {},
   "outputs": [
    {
     "data": {
      "image/png": "[encoded data removed]",
      "text/plain": [
       "<Figure size 720x720 with 2 Axes>"
      ]
     },
     "metadata": {
      "needs_background": "light"
     },
     "output_type": "display_data"
    }
   ],
   "source": [
    "plt.figure(figsize=(10,10))\n",
    "sns.heatmap(data.corr(),annot=True)\n",
    "plt.show()"
   ]
  },
  {
   "cell_type": "code",
   "execution_count": 21,
   "id": "788645af",
   "metadata": {},
   "outputs": [
    {
     "data": {
      "image/png": "[encoded data removed]",
      "text/plain": [
       "<Figure size 720x720 with 1 Axes>"
      ]
     },
     "metadata": {
      "needs_background": "light"
     },
     "output_type": "display_data"
    }
   ],
   "source": [
    "plt.figure(figsize=(10,10))\n",
    "sns.distplot(data.price)\n",
    "plt.show()"
   ]
  },
  {
   "cell_type": "code",
   "execution_count": 22,
   "id": "3058a705",
   "metadata": {
    "scrolled": false
   },
   "outputs": [
    {
     "data": {
      "image/png": "[encoded data removed]",
      "text/plain": [
       "<Figure size 864x576 with 1 Axes>"
      ]
     },
     "metadata": {
      "needs_background": "light"
     },
     "output_type": "display_data"
    },
    {
     "data": {
      "image/png": "[encoded data removed]",
      "text/plain": [
       "<Figure size 864x576 with 1 Axes>"
      ]
     },
     "metadata": {
      "needs_background": "light"
     },
     "output_type": "display_data"
    },
    {
     "data": {
      "image/png": "[encoded data removed]",
      "text/plain": [
       "<Figure size 864x576 with 1 Axes>"
      ]
     },
     "metadata": {
      "needs_background": "light"
     },
     "output_type": "display_data"
    },
    {
     "data": {
      "image/png": "[encoded data removed]",
      "text/plain": [
       "<Figure size 864x576 with 1 Axes>"
      ]
     },
     "metadata": {
      "needs_background": "light"
     },
     "output_type": "display_data"
    },
    {
     "data": {
      "image/png": "[encoded data removed]",
      "text/plain": [
       "<Figure size 864x576 with 1 Axes>"
      ]
     },
     "metadata": {
      "needs_background": "light"
     },
     "output_type": "display_data"
    },
    {
     "data": {
      "image/png": "[encoded data removed]",
      "text/plain": [
       "<Figure size 864x576 with 1 Axes>"
      ]
     },
     "metadata": {
      "needs_background": "light"
     },
     "output_type": "display_data"
    },
    {
     "data": {
      "image/png": "[encoded data removed]",
      "text/plain": [
       "<Figure size 864x576 with 1 Axes>"
      ]
     },
     "metadata": {
      "needs_background": "light"
     },
     "output_type": "display_data"
    },
    {
     "data": {
      "image/png": "[encoded data removed]",
      "text/plain": [
       "<Figure size 864x576 with 1 Axes>"
      ]
     },
     "metadata": {
      "needs_background": "light"
     },
     "output_type": "display_data"
    },
    {
     "data": {
      "image/png": "[encoded data removed]",
      "text/plain": [
       "<Figure size 864x576 with 1 Axes>"
      ]
     },
     "metadata": {
      "needs_background": "light"
     },
     "output_type": "display_data"
    }
   ],
   "source": [
    "columns = data.columns\n",
    "for i in  columns:\n",
    "    plt.figure(figsize=(12,8))\n",
    "    sns.countplot(data=data,x=data[i][0:],hue='layout_type',palette='viridis')\n",
    "    plt.show()"
   ]
  },
  {
   "cell_type": "code",
   "execution_count": 23,
   "id": "88a3e51d",
   "metadata": {},
   "outputs": [],
   "source": [
    "from sklearn.preprocessing import RobustScaler"
   ]
  },
  {
   "cell_type": "code",
   "execution_count": 24,
   "id": "bb8b76e1",
   "metadata": {},
   "outputs": [],
   "source": [
    "scaler = RobustScaler()"
   ]
  },
  {
   "cell_type": "code",
   "execution_count": 25,
   "id": "7b385b21",
   "metadata": {},
   "outputs": [],
   "source": [
    "X= pd.DataFrame(scaler.fit_transform(data.drop(['price'],axis = 1),),columns = [ 'furnish_type','seller_type','locality','bedroom', 'layout_type', 'property_type',\n",
    "       'area', 'bathroom'])"
   ]
  },
  {
   "cell_type": "code",
   "execution_count": 26,
   "id": "2c3e33d9",
   "metadata": {},
   "outputs": [
    {
     "data": {
      "text/html": [
       "<div>\n",
       "<style scoped>\n",
       "    .dataframe tbody tr th:only-of-type {\n",
       "        vertical-align: middle;\n",
       "    }\n",
       "\n",
       "    .dataframe tbody tr th {\n",
       "        vertical-align: top;\n",
       "    }\n",
       "\n",
       "    .dataframe thead th {\n",
       "        text-align: right;\n",
       "    }\n",
       "</style>\n",
       "<table border=\"1\" class=\"dataframe\">\n",
       "  <thead>\n",
       "    <tr style=\"text-align: right;\">\n",
       "      <th></th>\n",
       "      <th>furnish_type</th>\n",
       "      <th>seller_type</th>\n",
       "      <th>locality</th>\n",
       "      <th>bedroom</th>\n",
       "      <th>layout_type</th>\n",
       "      <th>property_type</th>\n",
       "      <th>area</th>\n",
       "      <th>bathroom</th>\n",
       "    </tr>\n",
       "  </thead>\n",
       "  <tbody>\n",
       "    <tr>\n",
       "      <th>0</th>\n",
       "      <td>1.0</td>\n",
       "      <td>-1.0</td>\n",
       "      <td>0.0</td>\n",
       "      <td>1.0</td>\n",
       "      <td>0.174545</td>\n",
       "      <td>-0.927273</td>\n",
       "      <td>1.0</td>\n",
       "      <td>-1.00</td>\n",
       "    </tr>\n",
       "    <tr>\n",
       "      <th>1</th>\n",
       "      <td>1.0</td>\n",
       "      <td>0.0</td>\n",
       "      <td>0.0</td>\n",
       "      <td>0.0</td>\n",
       "      <td>0.876364</td>\n",
       "      <td>-0.080000</td>\n",
       "      <td>1.0</td>\n",
       "      <td>0.00</td>\n",
       "    </tr>\n",
       "    <tr>\n",
       "      <th>2</th>\n",
       "      <td>1.0</td>\n",
       "      <td>1.0</td>\n",
       "      <td>0.0</td>\n",
       "      <td>0.0</td>\n",
       "      <td>0.865455</td>\n",
       "      <td>0.227273</td>\n",
       "      <td>0.0</td>\n",
       "      <td>0.25</td>\n",
       "    </tr>\n",
       "    <tr>\n",
       "      <th>3</th>\n",
       "      <td>1.0</td>\n",
       "      <td>-1.0</td>\n",
       "      <td>1.0</td>\n",
       "      <td>4.0</td>\n",
       "      <td>-0.007273</td>\n",
       "      <td>-1.290909</td>\n",
       "      <td>-1.0</td>\n",
       "      <td>-1.00</td>\n",
       "    </tr>\n",
       "    <tr>\n",
       "      <th>4</th>\n",
       "      <td>1.0</td>\n",
       "      <td>0.0</td>\n",
       "      <td>0.0</td>\n",
       "      <td>0.0</td>\n",
       "      <td>0.930909</td>\n",
       "      <td>0.081818</td>\n",
       "      <td>0.0</td>\n",
       "      <td>0.00</td>\n",
       "    </tr>\n",
       "  </tbody>\n",
       "</table>\n",
       "</div>"
      ],
      "text/plain": [
       "   furnish_type  seller_type  locality  bedroom  layout_type  property_type  \\\n",
       "0           1.0         -1.0       0.0      1.0     0.174545      -0.927273   \n",
       "1           1.0          0.0       0.0      0.0     0.876364      -0.080000   \n",
       "2           1.0          1.0       0.0      0.0     0.865455       0.227273   \n",
       "3           1.0         -1.0       1.0      4.0    -0.007273      -1.290909   \n",
       "4           1.0          0.0       0.0      0.0     0.930909       0.081818   \n",
       "\n",
       "   area  bathroom  \n",
       "0   1.0     -1.00  \n",
       "1   1.0      0.00  \n",
       "2   0.0      0.25  \n",
       "3  -1.0     -1.00  \n",
       "4   0.0      0.00  "
      ]
     },
     "execution_count": 26,
     "metadata": {},
     "output_type": "execute_result"
    }
   ],
   "source": [
    "X.head()"
   ]
  },
  {
   "cell_type": "code",
   "execution_count": 27,
   "id": "5133c523",
   "metadata": {},
   "outputs": [],
   "source": [
    "y = data.price"
   ]
  },
  {
   "cell_type": "code",
   "execution_count": 28,
   "id": "a361f88d",
   "metadata": {},
   "outputs": [],
   "source": [
    "from sklearn.model_selection import train_test_split"
   ]
  },
  {
   "cell_type": "code",
   "execution_count": 29,
   "id": "70cd459e",
   "metadata": {},
   "outputs": [],
   "source": [
    "X_train, X_test, y_train, y_test = train_test_split(X,y, test_size=0.25, random_state=42)"
   ]
  },
  {
   "cell_type": "code",
   "execution_count": 30,
   "id": "c1d582d0",
   "metadata": {},
   "outputs": [
    {
     "data": {
      "text/plain": [
       "(17100, 8)"
      ]
     },
     "execution_count": 30,
     "metadata": {},
     "output_type": "execute_result"
    }
   ],
   "source": [
    "X_train.shape"
   ]
  },
  {
   "cell_type": "code",
   "execution_count": 31,
   "id": "8bc4a702",
   "metadata": {},
   "outputs": [
    {
     "data": {
      "text/plain": [
       "(5700, 8)"
      ]
     },
     "execution_count": 31,
     "metadata": {},
     "output_type": "execute_result"
    }
   ],
   "source": [
    "X_test.shape"
   ]
  },
  {
   "cell_type": "code",
   "execution_count": 32,
   "id": "6a90e5df",
   "metadata": {},
   "outputs": [
    {
     "data": {
      "text/plain": [
       "(17100,)"
      ]
     },
     "execution_count": 32,
     "metadata": {},
     "output_type": "execute_result"
    }
   ],
   "source": [
    "y_train.shape"
   ]
  },
  {
   "cell_type": "code",
   "execution_count": 33,
   "id": "8a82bfec",
   "metadata": {},
   "outputs": [],
   "source": [
    "from sklearn.linear_model import LinearRegression"
   ]
  },
  {
   "cell_type": "code",
   "execution_count": 34,
   "id": "827be3d2",
   "metadata": {},
   "outputs": [
    {
     "data": {
      "text/plain": [
       "LinearRegression()"
      ]
     },
     "execution_count": 34,
     "metadata": {},
     "output_type": "execute_result"
    }
   ],
   "source": [
    "lr = LinearRegression()\n",
    "lr.fit(X_train, y_train)"
   ]
  },
  {
   "cell_type": "code",
   "execution_count": 35,
   "id": "66943b74",
   "metadata": {},
   "outputs": [
    {
     "data": {
      "text/plain": [
       "0.4576797130309187"
      ]
     },
     "execution_count": 35,
     "metadata": {},
     "output_type": "execute_result"
    }
   ],
   "source": [
    "lr.score(X_train, y_train)"
   ]
  },
  {
   "cell_type": "code",
   "execution_count": 109,
   "id": "371ab1b8",
   "metadata": {},
   "outputs": [],
   "source": [
    "y_predict = lr.predict(X_test)"
   ]
  },
  {
   "cell_type": "code",
   "execution_count": 37,
   "id": "fefd3c85",
   "metadata": {},
   "outputs": [],
   "source": [
    "from sklearn.metrics import mean_squared_error, r2_score"
   ]
  },
  {
   "cell_type": "code",
   "execution_count": 38,
   "id": "107b964d",
   "metadata": {},
   "outputs": [],
   "source": [
    "mse = mean_squared_error(y_test, y_predict)"
   ]
  },
  {
   "cell_type": "code",
   "execution_count": 39,
   "id": "01a1102b",
   "metadata": {},
   "outputs": [
    {
     "name": "stdout",
     "output_type": "stream",
     "text": [
      "Linear Regression MSE: 78666680.60284586\n"
     ]
    }
   ],
   "source": [
    "print('Linear Regression MSE:', mse)"
   ]
  },
  {
   "cell_type": "code",
   "execution_count": 40,
   "id": "65976f30",
   "metadata": {},
   "outputs": [],
   "source": [
    "from sklearn import metrics"
   ]
  },
  {
   "cell_type": "code",
   "execution_count": 41,
   "id": "1908441a",
   "metadata": {},
   "outputs": [
    {
     "name": "stdout",
     "output_type": "stream",
     "text": [
      "Train score: 0.4576797130309187\n",
      "\n",
      "Test score: 0.4659795845211929\n",
      "\n",
      "Overall model accuracy: 0.4659795845211929\n",
      "\n",
      "Mean Squared Error: 78666680.60284586\n"
     ]
    }
   ],
   "source": [
    "# make prediction with the fitted model\n",
    "linear_pred = lr.predict(X_test) \n",
    "\n",
    "# score the model on the train set\n",
    "print('Train score: {}\\n'.format(lr.score(X_train,y_train)))\n",
    "\n",
    "# score the model on the test set\n",
    "print('Test score: {}\\n'.format(lr.score(X_test,y_test)))\n",
    "\n",
    "# calculate the overall accuracy of the model\n",
    "print('Overall model accuracy: {}\\n'.format(r2_score(y_test,linear_pred)))\n",
    "\n",
    "# compute the mean squared error of the model\n",
    "print('Mean Squared Error: {}'.format(mean_squared_error(y_test,linear_pred)))"
   ]
  },
  {
   "cell_type": "code",
   "execution_count": 42,
   "id": "c648d7e5",
   "metadata": {},
   "outputs": [
    {
     "data": {
      "text/plain": [
       "seller_type         3\n",
       "bedroom             7\n",
       "layout_type         2\n",
       "property_type       6\n",
       "locality          459\n",
       "price             497\n",
       "area             1275\n",
       "furnish_type        3\n",
       "bathroom           15\n",
       "dtype: int64"
      ]
     },
     "execution_count": 42,
     "metadata": {},
     "output_type": "execute_result"
    }
   ],
   "source": [
    "data.nunique()"
   ]
  },
  {
   "cell_type": "code",
   "execution_count": 43,
   "id": "9c02b462",
   "metadata": {},
   "outputs": [],
   "source": [
    "from sklearn.linear_model import Ridge "
   ]
  },
  {
   "cell_type": "code",
   "execution_count": 44,
   "id": "2e6a114b",
   "metadata": {},
   "outputs": [],
   "source": [
    "RidgeReg = Ridge(alpha = 0.001)"
   ]
  },
  {
   "cell_type": "code",
   "execution_count": 45,
   "id": "5bf9216d",
   "metadata": {},
   "outputs": [
    {
     "data": {
      "text/plain": [
       "Ridge(alpha=0.001)"
      ]
     },
     "execution_count": 45,
     "metadata": {},
     "output_type": "execute_result"
    }
   ],
   "source": [
    "RidgeReg.fit(X_train, y_train)"
   ]
  },
  {
   "cell_type": "code",
   "execution_count": 46,
   "id": "a4f033ff",
   "metadata": {},
   "outputs": [
    {
     "data": {
      "text/plain": [
       "0.45767971303090915"
      ]
     },
     "execution_count": 46,
     "metadata": {},
     "output_type": "execute_result"
    }
   ],
   "source": [
    "RidgeReg.score(X_train, y_train)"
   ]
  },
  {
   "cell_type": "code",
   "execution_count": 47,
   "id": "dec09667",
   "metadata": {},
   "outputs": [],
   "source": [
    "from sklearn.linear_model import Lasso"
   ]
  },
  {
   "cell_type": "code",
   "execution_count": 48,
   "id": "67374db8",
   "metadata": {},
   "outputs": [],
   "source": [
    "LassoReg = Lasso(alpha = 1)"
   ]
  },
  {
   "cell_type": "code",
   "execution_count": 49,
   "id": "13ecf1d3",
   "metadata": {},
   "outputs": [
    {
     "data": {
      "text/plain": [
       "Lasso(alpha=1)"
      ]
     },
     "execution_count": 49,
     "metadata": {},
     "output_type": "execute_result"
    }
   ],
   "source": [
    "LassoReg.fit(X_train, y_train)"
   ]
  },
  {
   "cell_type": "code",
   "execution_count": 50,
   "id": "ffd4bbe3",
   "metadata": {},
   "outputs": [
    {
     "data": {
      "text/plain": [
       "0.4576793181181017"
      ]
     },
     "execution_count": 50,
     "metadata": {},
     "output_type": "execute_result"
    }
   ],
   "source": [
    "LassoReg.score(X_train, y_train)"
   ]
  },
  {
   "cell_type": "code",
   "execution_count": 51,
   "id": "fa4b705d",
   "metadata": {},
   "outputs": [],
   "source": [
    "from sklearn.ensemble import GradientBoostingRegressor"
   ]
  },
  {
   "cell_type": "code",
   "execution_count": 52,
   "id": "01248ffe",
   "metadata": {},
   "outputs": [],
   "source": [
    "gbr = GradientBoostingRegressor(learning_rate = 0.25, n_estimators = 500)"
   ]
  },
  {
   "cell_type": "code",
   "execution_count": 53,
   "id": "60909fbf",
   "metadata": {},
   "outputs": [
    {
     "data": {
      "text/plain": [
       "GradientBoostingRegressor(learning_rate=0.25, n_estimators=500)"
      ]
     },
     "execution_count": 53,
     "metadata": {},
     "output_type": "execute_result"
    }
   ],
   "source": [
    "gbr.fit(X_train, y_train)"
   ]
  },
  {
   "cell_type": "code",
   "execution_count": 54,
   "id": "14570c7b",
   "metadata": {},
   "outputs": [
    {
     "data": {
      "text/plain": [
       "0.8584940190033787"
      ]
     },
     "execution_count": 54,
     "metadata": {},
     "output_type": "execute_result"
    }
   ],
   "source": [
    "gbr.score(X_train, y_train)"
   ]
  },
  {
   "cell_type": "code",
   "execution_count": 65,
   "id": "aa060280",
   "metadata": {},
   "outputs": [
    {
     "data": {
      "text/plain": [
       "15000.0    1241\n",
       "18000.0    1156\n",
       "12000.0    1089\n",
       "20000.0    1002\n",
       "16000.0     969\n",
       "           ... \n",
       "44840.0       1\n",
       "16499.0       1\n",
       "23600.0       1\n",
       "84500.0       1\n",
       "17900.0       1\n",
       "Name: price, Length: 497, dtype: int64"
      ]
     },
     "execution_count": 65,
     "metadata": {},
     "output_type": "execute_result"
    }
   ],
   "source": [
    "data.price."
   ]
  },
  {
   "cell_type": "markdown",
   "id": "b524f095",
   "metadata": {},
   "source": [
    "## top favourite area"
   ]
  },
  {
   "cell_type": "code",
   "execution_count": 105,
   "id": "0d22b5f9",
   "metadata": {},
   "outputs": [
    {
     "data": {
      "text/html": [
       "<div>\n",
       "<style scoped>\n",
       "    .dataframe tbody tr th:only-of-type {\n",
       "        vertical-align: middle;\n",
       "    }\n",
       "\n",
       "    .dataframe tbody tr th {\n",
       "        vertical-align: top;\n",
       "    }\n",
       "\n",
       "    .dataframe thead th {\n",
       "        text-align: right;\n",
       "    }\n",
       "</style>\n",
       "<table border=\"1\" class=\"dataframe\">\n",
       "  <thead>\n",
       "    <tr style=\"text-align: right;\">\n",
       "      <th></th>\n",
       "      <th>seller_type</th>\n",
       "      <th>bedroom</th>\n",
       "      <th>layout_type</th>\n",
       "      <th>property_type</th>\n",
       "      <th>locality</th>\n",
       "      <th>price</th>\n",
       "      <th>area</th>\n",
       "      <th>furnish_type</th>\n",
       "      <th>bathroom</th>\n",
       "    </tr>\n",
       "  </thead>\n",
       "  <tbody>\n",
       "    <tr>\n",
       "      <th>3219</th>\n",
       "      <td>AGENT</td>\n",
       "      <td>4</td>\n",
       "      <td>BHK</td>\n",
       "      <td>Apartment</td>\n",
       "      <td>New Kalyani Nagar</td>\n",
       "      <td>99000.0</td>\n",
       "      <td>3562</td>\n",
       "      <td>Furnished</td>\n",
       "      <td>3 bathrooms</td>\n",
       "    </tr>\n",
       "    <tr>\n",
       "      <th>3260</th>\n",
       "      <td>AGENT</td>\n",
       "      <td>4</td>\n",
       "      <td>BHK</td>\n",
       "      <td>Apartment</td>\n",
       "      <td>Kalyani Nagar</td>\n",
       "      <td>99000.0</td>\n",
       "      <td>4812</td>\n",
       "      <td>Furnished</td>\n",
       "      <td>4 bathrooms</td>\n",
       "    </tr>\n",
       "    <tr>\n",
       "      <th>3261</th>\n",
       "      <td>AGENT</td>\n",
       "      <td>4</td>\n",
       "      <td>BHK</td>\n",
       "      <td>Apartment</td>\n",
       "      <td>Kalyani Nagar</td>\n",
       "      <td>99000.0</td>\n",
       "      <td>4812</td>\n",
       "      <td>Furnished</td>\n",
       "      <td>4 bathrooms</td>\n",
       "    </tr>\n",
       "    <tr>\n",
       "      <th>3267</th>\n",
       "      <td>AGENT</td>\n",
       "      <td>4</td>\n",
       "      <td>BHK</td>\n",
       "      <td>Apartment</td>\n",
       "      <td>Kalyani Nagar</td>\n",
       "      <td>99000.0</td>\n",
       "      <td>4812</td>\n",
       "      <td>Furnished</td>\n",
       "      <td>4 bathrooms</td>\n",
       "    </tr>\n",
       "    <tr>\n",
       "      <th>3268</th>\n",
       "      <td>AGENT</td>\n",
       "      <td>4</td>\n",
       "      <td>BHK</td>\n",
       "      <td>Apartment</td>\n",
       "      <td>Kalyani Nagar</td>\n",
       "      <td>99000.0</td>\n",
       "      <td>4812</td>\n",
       "      <td>Furnished</td>\n",
       "      <td>4 bathrooms</td>\n",
       "    </tr>\n",
       "    <tr>\n",
       "      <th>3282</th>\n",
       "      <td>AGENT</td>\n",
       "      <td>4</td>\n",
       "      <td>BHK</td>\n",
       "      <td>Apartment</td>\n",
       "      <td>New Kalyani Nagar</td>\n",
       "      <td>99000.0</td>\n",
       "      <td>3562</td>\n",
       "      <td>Furnished</td>\n",
       "      <td>3 bathrooms</td>\n",
       "    </tr>\n",
       "    <tr>\n",
       "      <th>3360</th>\n",
       "      <td>AGENT</td>\n",
       "      <td>4</td>\n",
       "      <td>BHK</td>\n",
       "      <td>Apartment</td>\n",
       "      <td>Kalyani Nagar</td>\n",
       "      <td>99000.0</td>\n",
       "      <td>4812</td>\n",
       "      <td>Furnished</td>\n",
       "      <td>4 bathrooms</td>\n",
       "    </tr>\n",
       "    <tr>\n",
       "      <th>3361</th>\n",
       "      <td>AGENT</td>\n",
       "      <td>4</td>\n",
       "      <td>BHK</td>\n",
       "      <td>Apartment</td>\n",
       "      <td>New Kalyani Nagar</td>\n",
       "      <td>99000.0</td>\n",
       "      <td>3562</td>\n",
       "      <td>Furnished</td>\n",
       "      <td>3 bathrooms</td>\n",
       "    </tr>\n",
       "    <tr>\n",
       "      <th>3365</th>\n",
       "      <td>AGENT</td>\n",
       "      <td>4</td>\n",
       "      <td>BHK</td>\n",
       "      <td>Apartment</td>\n",
       "      <td>New Kalyani Nagar</td>\n",
       "      <td>99000.0</td>\n",
       "      <td>3562</td>\n",
       "      <td>Furnished</td>\n",
       "      <td>4 bathrooms</td>\n",
       "    </tr>\n",
       "    <tr>\n",
       "      <th>3366</th>\n",
       "      <td>AGENT</td>\n",
       "      <td>4</td>\n",
       "      <td>BHK</td>\n",
       "      <td>Apartment</td>\n",
       "      <td>New Kalyani Nagar</td>\n",
       "      <td>99000.0</td>\n",
       "      <td>3562</td>\n",
       "      <td>Furnished</td>\n",
       "      <td>4 bathrooms</td>\n",
       "    </tr>\n",
       "  </tbody>\n",
       "</table>\n",
       "</div>"
      ],
      "text/plain": [
       "     seller_type  bedroom layout_type property_type           locality  \\\n",
       "3219       AGENT        4         BHK     Apartment  New Kalyani Nagar   \n",
       "3260       AGENT        4         BHK     Apartment      Kalyani Nagar   \n",
       "3261       AGENT        4         BHK     Apartment      Kalyani Nagar   \n",
       "3267       AGENT        4         BHK     Apartment      Kalyani Nagar   \n",
       "3268       AGENT        4         BHK     Apartment      Kalyani Nagar   \n",
       "3282       AGENT        4         BHK     Apartment  New Kalyani Nagar   \n",
       "3360       AGENT        4         BHK     Apartment      Kalyani Nagar   \n",
       "3361       AGENT        4         BHK     Apartment  New Kalyani Nagar   \n",
       "3365       AGENT        4         BHK     Apartment  New Kalyani Nagar   \n",
       "3366       AGENT        4         BHK     Apartment  New Kalyani Nagar   \n",
       "\n",
       "        price  area furnish_type     bathroom  \n",
       "3219  99000.0  3562    Furnished  3 bathrooms  \n",
       "3260  99000.0  4812    Furnished  4 bathrooms  \n",
       "3261  99000.0  4812    Furnished  4 bathrooms  \n",
       "3267  99000.0  4812    Furnished  4 bathrooms  \n",
       "3268  99000.0  4812    Furnished  4 bathrooms  \n",
       "3282  99000.0  3562    Furnished  3 bathrooms  \n",
       "3360  99000.0  4812    Furnished  4 bathrooms  \n",
       "3361  99000.0  3562    Furnished  3 bathrooms  \n",
       "3365  99000.0  3562    Furnished  4 bathrooms  \n",
       "3366  99000.0  3562    Furnished  4 bathrooms  "
      ]
     },
     "execution_count": 105,
     "metadata": {},
     "output_type": "execute_result"
    }
   ],
   "source": [
    " a = df1.nlargest(10,['price'])\n",
    "a"
   ]
  },
  {
   "cell_type": "code",
   "execution_count": 117,
   "id": "97f80218",
   "metadata": {},
   "outputs": [
    {
     "data": {
      "image/png": "[encoded data removed]",
      "text/plain": [
       "<Figure size 432x288 with 1 Axes>"
      ]
     },
     "metadata": {
      "needs_background": "light"
     },
     "output_type": "display_data"
    }
   ],
   "source": [
    "sns.barplot(x='locality',y='price',data=a)\n",
    "plt.show()"
   ]
  },
  {
   "cell_type": "code",
   "execution_count": 107,
   "id": "b8703379",
   "metadata": {},
   "outputs": [
    {
     "data": {
      "text/plain": [
       "<AxesSubplot:title={'center':'Top 10 rented flat locality By price'}, xlabel='locality'>"
      ]
     },
     "execution_count": 107,
     "metadata": {},
     "output_type": "execute_result"
    },
    {
     "data": {
      "image/png": "[encoded data removed]",
      "text/plain": [
       "<Figure size 432x288 with 1 Axes>"
      ]
     },
     "metadata": {
      "needs_background": "light"
     },
     "output_type": "display_data"
    }
   ],
   "source": [
    "df1.iloc[:10].plot.bar(x = 'locality', y = 'price', title = 'Top 10 rented flat locality By price')\n"
   ]
  },
  {
   "cell_type": "code",
   "execution_count": 108,
   "id": "d7375d67",
   "metadata": {},
   "outputs": [
    {
     "data": {
      "text/plain": [
       "<AxesSubplot:title={'center':'Top 10 rented flat locality By Quantity'}, xlabel='price'>"
      ]
     },
     "execution_count": 108,
     "metadata": {},
     "output_type": "execute_result"
    },
    {
     "data": {
      "image/png": "[encoded data removed]",
      "text/plain": [
       "<Figure size 432x288 with 1 Axes>"
      ]
     },
     "metadata": {
      "needs_background": "light"
     },
     "output_type": "display_data"
    }
   ],
   "source": [
    "df1.iloc[:10].plot.bar(y = 'area', x = 'price', title = 'Top 10 rented flat locality By Quantity')"
   ]
  },
  {
   "cell_type": "code",
   "execution_count": 123,
   "id": "aed95070",
   "metadata": {},
   "outputs": [],
   "source": [
    "XNew=[[1.0,-1.0,0.0,1.0,0.174545,-0.927273,1.0,-1.00]]"
   ]
  },
  {
   "cell_type": "code",
   "execution_count": 124,
   "id": "e60c624f",
   "metadata": {},
   "outputs": [],
   "source": [
    "y_predict = lr.predict(XNew)"
   ]
  },
  {
   "cell_type": "code",
   "execution_count": 125,
   "id": "39981022",
   "metadata": {},
   "outputs": [
    {
     "data": {
      "text/plain": [
       "array([6943.10513126])"
      ]
     },
     "execution_count": 125,
     "metadata": {},
     "output_type": "execute_result"
    }
   ],
   "source": [
    "y_predict"
   ]
  },
  {
   "cell_type": "code",
   "execution_count": null,
   "id": "e3448f58",
   "metadata": {},
   "outputs": [],
   "source": []
  }
 ],
 "metadata": {
  "kernelspec": {
   "display_name": "Python 3",
   "language": "python",
   "name": "python3"
  },
  "language_info": {
   "codemirror_mode": {
    "name": "ipython",
    "version": 3
   },
   "file_extension": ".py",
   "mimetype": "text/x-python",
   "name": "python",
   "nbconvert_exporter": "python",
   "pygments_lexer": "ipython3",
   "version": "3.8.8"
  }
 },
 "nbformat": 4,
 "nbformat_minor": 5
}
